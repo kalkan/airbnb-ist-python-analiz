{
 "cells": [
  {
   "cell_type": "markdown",
   "metadata": {},
   "source": [
    "# Concepts in Spatial Linear Modelling\n",
    "\n",
    "### Data Borrowing in Supervised Learning"
   ]
  },
  {
   "cell_type": "code",
   "execution_count": 1,
   "metadata": {},
   "outputs": [],
   "source": [
    "import numpy as np\n",
    "import libpysal as lp\n",
    "import geopandas as gpd\n",
    "import pandas as pd\n",
    "import shapely.geometry as shp\n",
    "import matplotlib.pyplot as plt\n",
    "import seaborn as sns\n",
    "%matplotlib inline"
   ]
  },
  {
   "cell_type": "code",
   "execution_count": 3,
   "metadata": {},
   "outputs": [
    {
     "name": "stderr",
     "output_type": "stream",
     "text": [
      "C:\\Users\\Kaan\\Anaconda3\\lib\\site-packages\\IPython\\core\\interactiveshell.py:3058: DtypeWarning: Columns (61,62,94) have mixed types. Specify dtype option on import or set low_memory=False.\n",
      "  interactivity=interactivity, compiler=compiler, result=result)\n"
     ]
    }
   ],
   "source": [
    "listings = pd.read_csv('./data/listings.csv.gz')\n",
    "listings['geometry'] = listings[['longitude','latitude']].apply(shp.Point, axis=1)\n",
    "listings = gpd.GeoDataFrame(listings)\n",
    "listings.crs = {'init':'epsg:4269'}\n",
    "listings = listings.to_crs(epsg=4326)"
   ]
  },
  {
   "cell_type": "code",
   "execution_count": 4,
   "metadata": {},
   "outputs": [
    {
     "data": {
      "text/plain": [
       "<matplotlib.axes._subplots.AxesSubplot at 0x295adde3c48>"
      ]
     },
     "execution_count": 4,
     "metadata": {},
     "output_type": "execute_result"
    },
    {
     "data": {
      "image/png": "[encoded data removed]",
      "text/plain": [
       "<Figure size 432x288 with 1 Axes>"
      ]
     },
     "metadata": {
      "needs_background": "light"
     },
     "output_type": "display_data"
    }
   ],
   "source": [
    "listings.sort_values('price').plot('price', cmap='plasma')"
   ]
  },
  {
   "cell_type": "markdown",
   "metadata": {},
   "source": [
    "# Kernel Regressions"
   ]
  },
  {
   "cell_type": "markdown",
   "metadata": {},
   "source": [
    "Kernel regressions are one exceptionally common way to allow observations to \"borrow strength\" from nearby observations. \n",
    "\n",
    "However, when working with spatial data, there are *two simultaneous senses of what is near:* \n",
    "- things that similar in attribute (classical kernel regression)\n",
    "- things that are similar in spatial position (spatial kernel regression)\n",
    "\n",
    "Below, we'll walk through how to use scikit to fit these two types of kernel regressions, show how it's not super simple to mix the two approaches together, and refer to an approach that does this correctly in another package. "
   ]
  },
  {
   "cell_type": "markdown",
   "metadata": {},
   "source": [
    "First, though, let's try to predict the log of an Airbnb's nightly price based on a few factors:\n",
    "- accommodates: the number of people the airbnb can accommodate\n",
    "- review_scores_rating: the aggregate rating of the listing\n",
    "- bedrooms: the number of bedrooms the airbnb has\n",
    "- bathrooms: the number of bathrooms the airbnb has\n",
    "- beds: the number of beds the airbnb offers"
   ]
  },
  {
   "cell_type": "code",
   "execution_count": 10,
   "metadata": {},
   "outputs": [
    {
     "data": {
      "text/plain": [
       "0        $604.00\n",
       "1        $685.00\n",
       "2        $190.00\n",
       "6        $633.00\n",
       "7        $316.00\n",
       "          ...   \n",
       "21385    $570.00\n",
       "21430    $155.00\n",
       "21468    $299.00\n",
       "21517    $552.00\n",
       "21560    $138.00\n",
       "Name: price, Length: 10299, dtype: object"
      ]
     },
     "execution_count": 10,
     "metadata": {},
     "output_type": "execute_result"
    }
   ],
   "source": [
    "model_data = listings[['accommodates', 'review_scores_rating', \n",
    "                       'bedrooms', 'bathrooms', 'beds', \n",
    "                       'price', 'geometry']].dropna()\n",
    "\n",
    "model_data.head()\n",
    "\n",
    "model_data['price'] = model_data['price'].astype(float)\n"
   ]
  },
  {
   "cell_type": "code",
   "execution_count": 8,
   "metadata": {},
   "outputs": [
    {
     "ename": "AttributeError",
     "evalue": "'str' object has no attribute 'log'",
     "output_type": "error",
     "traceback": [
      "\u001b[1;31m---------------------------------------------------------------------------\u001b[0m",
      "\u001b[1;31mAttributeError\u001b[0m                            Traceback (most recent call last)",
      "\u001b[1;32m<ipython-input-8-9a18051e9829>\u001b[0m in \u001b[0;36m<module>\u001b[1;34m\u001b[0m\n\u001b[0;32m      3\u001b[0m \u001b[0mX\u001b[0m \u001b[1;33m=\u001b[0m \u001b[0mmodel_data\u001b[0m\u001b[1;33m[\u001b[0m\u001b[0mXnames\u001b[0m\u001b[1;33m]\u001b[0m\u001b[1;33m.\u001b[0m\u001b[0mvalues\u001b[0m\u001b[1;33m\u001b[0m\u001b[1;33m\u001b[0m\u001b[0m\n\u001b[0;32m      4\u001b[0m \u001b[0mX\u001b[0m \u001b[1;33m=\u001b[0m \u001b[0mX\u001b[0m\u001b[1;33m.\u001b[0m\u001b[0mastype\u001b[0m\u001b[1;33m(\u001b[0m\u001b[0mfloat\u001b[0m\u001b[1;33m)\u001b[0m\u001b[1;33m\u001b[0m\u001b[1;33m\u001b[0m\u001b[0m\n\u001b[1;32m----> 5\u001b[1;33m \u001b[0my\u001b[0m \u001b[1;33m=\u001b[0m \u001b[0mnp\u001b[0m\u001b[1;33m.\u001b[0m\u001b[0mlog\u001b[0m\u001b[1;33m(\u001b[0m\u001b[0mmodel_data\u001b[0m\u001b[1;33m[\u001b[0m\u001b[1;33m[\u001b[0m\u001b[1;34m'price'\u001b[0m\u001b[1;33m]\u001b[0m\u001b[1;33m]\u001b[0m\u001b[1;33m.\u001b[0m\u001b[0mvalues\u001b[0m\u001b[1;33m)\u001b[0m\u001b[1;33m\u001b[0m\u001b[1;33m\u001b[0m\u001b[0m\n\u001b[0m",
      "\u001b[1;31mAttributeError\u001b[0m: 'str' object has no attribute 'log'"
     ]
    }
   ],
   "source": [
    "Xnames = ['accommodates', 'review_scores_rating', \n",
    "               'bedrooms', 'bathrooms', 'beds' ]\n",
    "X = model_data[Xnames].values\n",
    "X = X.astype(float)\n",
    "y = np.log(model_data[['price']].values)"
   ]
  },
  {
   "cell_type": "markdown",
   "metadata": {},
   "source": [
    "Further, since each listing has a location, I'll extract the set of spatial coordinates coordinates for each listing."
   ]
  },
  {
   "cell_type": "code",
   "execution_count": 19,
   "metadata": {},
   "outputs": [],
   "source": [
    "coordinates = np.vstack(model_data.geometry.apply(lambda p: np.hstack(p.xy)).values)"
   ]
  },
  {
   "cell_type": "markdown",
   "metadata": {},
   "source": [
    "scikit neighbor regressions are contained in the `sklearn.neighbors` module, and there are two main types:\n",
    "- `KNeighborsRegressor`, which uses a k-nearest neighborhood of observations around each focal site\n",
    "- `RadiusNeighborsRegressor`, which considers all observations within a fixed radius around each focal site.\n",
    "\n",
    "Further, these methods can use inverse distance weighting to rank the relative importance of sites around each focal; in this way, near things are given more weight than far things, even when there's a lot of near things. "
   ]
  },
  {
   "cell_type": "code",
   "execution_count": 20,
   "metadata": {},
   "outputs": [],
   "source": [
    "import sklearn.neighbors as skn\n",
    "import sklearn.metrics as skm"
   ]
  },
  {
   "cell_type": "code",
   "execution_count": 21,
   "metadata": {},
   "outputs": [],
   "source": [
    "shuffle = np.random.permutation(len(y))\n",
    "train,test = shuffle[:14000],shuffle[14000:]"
   ]
  },
  {
   "cell_type": "markdown",
   "metadata": {},
   "source": [
    "So, let's fit three models:\n",
    "- `spatial`: using inverse distance weighting on the nearest 500 neighbors geograpical space\n",
    "- `attribute`: using inverse distance weighting on the nearest 500 neighbors in attribute space\n",
    "- `both`: using inverse distance weighting in both geographical and attribute space. "
   ]
  },
  {
   "cell_type": "code",
   "execution_count": 22,
   "metadata": {},
   "outputs": [],
   "source": [
    "KNNR = skn.KNeighborsRegressor(weights='distance', n_neighbors=500)\n",
    "spatial = KNNR.fit(coordinates[train,:],\n",
    "                  y[train,:])\n",
    "KNNR = skn.KNeighborsRegressor(weights='distance', n_neighbors=500)\n",
    "attribute = KNNR.fit(X[train,:],\n",
    "                    y[train,])\n",
    "KNNR = skn.KNeighborsRegressor(weights='distance', n_neighbors=500)\n",
    "both = KNNR.fit(np.hstack((coordinates,X))[train,:],\n",
    "                y[train,:])"
   ]
  },
  {
   "cell_type": "markdown",
   "metadata": {},
   "source": [
    "To score them, I'm going to grab their out of sample prediction accuracy and get their % explained variance:"
   ]
  },
  {
   "cell_type": "code",
   "execution_count": 23,
   "metadata": {},
   "outputs": [],
   "source": [
    "sp_ypred =  spatial.predict(coordinates[test,:])\n",
    "att_ypred = attribute.predict(X[test,:])\n",
    "both_ypred = both.predict(np.hstack((X,coordinates))[test,:])"
   ]
  },
  {
   "cell_type": "code",
   "execution_count": 24,
   "metadata": {},
   "outputs": [
    {
     "data": {
      "text/plain": [
       "(0.1443088606590084, 0.3149860849884514, -5.684468673550214e-09)"
      ]
     },
     "execution_count": 24,
     "metadata": {},
     "output_type": "execute_result"
    }
   ],
   "source": [
    "(skm.explained_variance_score(y[test,], sp_ypred),\n",
    " skm.explained_variance_score(y[test,], att_ypred),\n",
    " skm.explained_variance_score(y[test,], both_ypred))"
   ]
  },
  {
   "cell_type": "markdown",
   "metadata": {},
   "source": [
    "If you don't know $X$, using $Wy$ would be better than nothing, but it works nowhere near as well... less than half of the variance that is explained by nearness in feature/attribute space is explained by nearness in geographical space. \n",
    "\n",
    "Making things even worse, simply glomming on the geographical information to the feature set makes the model perform horribly. \n",
    "\n",
    "*There must be another way!*\n",
    "\n",
    "One method that can exploit the fact that local data may be more informative in predicting $y$ at site $i$ than distant data is Geographically Weighted Regression, a type of Generalized Additive Spatial Model. Kind of like a Kernel Regression, GWR conducts a bunch of regressions at each training site only considering data near that site. This means it works like the kernel regressions above, but uses *both* the coordinates *and* the data in $X$ to predict $y$ at each site. It optimizes its sense of \"local\" depending on some information criteria or fit score.\n",
    "\n",
    "You can find this in the `gwr` package, and significant development is ongoing on this at `https://github.com/pysal/gwr`."
   ]
  },
  {
   "cell_type": "markdown",
   "metadata": {},
   "source": [
    "# Data Borrowing"
   ]
  },
  {
   "cell_type": "markdown",
   "metadata": {},
   "source": [
    "Another common case where these weights are used are in \"feature engineering.\" Using the weights matrix, you can construct neighbourhood averages of the data matrix and use these as synthetic features in your model. These often have a strong relationship to the outcome as well, since spatial data is often smooth and attributes of nearby sites often have a spillover impact on each other. "
   ]
  },
  {
   "cell_type": "code",
   "execution_count": 25,
   "metadata": {},
   "outputs": [],
   "source": [
    "from libpysal.weights.util import fill_diagonal"
   ]
  },
  {
   "cell_type": "markdown",
   "metadata": {},
   "source": [
    "First, we'll construct a Kernel weight from the data that we have, make it an adaptive Kernel bandwidth, and make sure that our kernel weights don't have any self-neighbors. Since we've got the data at each site anyway, we probably shouldn't use that data *again* when we construct our neighborhood-smoothed syntetic features.  "
   ]
  },
  {
   "cell_type": "code",
   "execution_count": 26,
   "metadata": {},
   "outputs": [],
   "source": [
    "kW = lp.weights.Kernel.from_dataframe(model_data, fixed=False, function='gaussian', k=100)\n",
    "kW = fill_diagonal(kW, 0)"
   ]
  },
  {
   "cell_type": "code",
   "execution_count": 27,
   "metadata": {},
   "outputs": [],
   "source": [
    "WX = lp.weights.lag_spatial(kW, X)"
   ]
  },
  {
   "cell_type": "markdown",
   "metadata": {},
   "source": [
    "I like `statsmodels` regression summary tables, so I'll pop it up here. "
   ]
  },
  {
   "cell_type": "code",
   "execution_count": 28,
   "metadata": {},
   "outputs": [],
   "source": [
    "import statsmodels.api as sm"
   ]
  },
  {
   "cell_type": "code",
   "execution_count": 29,
   "metadata": {},
   "outputs": [],
   "source": [
    "Xtable = pd.DataFrame(X, columns=Xnames)"
   ]
  },
  {
   "cell_type": "markdown",
   "metadata": {},
   "source": [
    "Below are the results for the model with only the covariates used above:\n",
    "- accommodates: the number of people the airbnb can accommodate\n",
    "- review_scores_rating: the aggregate rating of the listing\n",
    "- bedrooms: the number of bedrooms the airbnb has\n",
    "- bathrooms: the number of bathrooms the airbnb has\n",
    "- beds: the number of beds the airbnb offers\n",
    "\n",
    "We've not used any of our synthetic features in `WX`. "
   ]
  },
  {
   "cell_type": "code",
   "execution_count": 30,
   "metadata": {},
   "outputs": [
    {
     "data": {
      "text/html": [
       "<table class=\"simpletable\">\n",
       "<caption>OLS Regression Results</caption>\n",
       "<tr>\n",
       "  <th>Dep. Variable:</th>            <td>y</td>        <th>  R-squared:         </th> <td>   0.290</td> \n",
       "</tr>\n",
       "<tr>\n",
       "  <th>Model:</th>                   <td>OLS</td>       <th>  Adj. R-squared:    </th> <td>   0.290</td> \n",
       "</tr>\n",
       "<tr>\n",
       "  <th>Method:</th>             <td>Least Squares</td>  <th>  F-statistic:       </th> <td>   1269.</td> \n",
       "</tr>\n",
       "<tr>\n",
       "  <th>Date:</th>             <td>Fri, 21 Sep 2018</td> <th>  Prob (F-statistic):</th>  <td>  0.00</td>  \n",
       "</tr>\n",
       "<tr>\n",
       "  <th>Time:</th>                 <td>15:41:48</td>     <th>  Log-Likelihood:    </th> <td> -9260.8</td> \n",
       "</tr>\n",
       "<tr>\n",
       "  <th>No. Observations:</th>      <td> 15516</td>      <th>  AIC:               </th> <td>1.853e+04</td>\n",
       "</tr>\n",
       "<tr>\n",
       "  <th>Df Residuals:</th>          <td> 15510</td>      <th>  BIC:               </th> <td>1.858e+04</td>\n",
       "</tr>\n",
       "<tr>\n",
       "  <th>Df Model:</th>              <td>     5</td>      <th>                     </th>     <td> </td>    \n",
       "</tr>\n",
       "<tr>\n",
       "  <th>Covariance Type:</th>      <td>nonrobust</td>    <th>                     </th>     <td> </td>    \n",
       "</tr>\n",
       "</table>\n",
       "<table class=\"simpletable\">\n",
       "<tr>\n",
       "            <td></td>              <th>coef</th>     <th>std err</th>      <th>t</th>      <th>P>|t|</th>  <th>[0.025</th>    <th>0.975]</th>  \n",
       "</tr>\n",
       "<tr>\n",
       "  <th>const</th>                <td>    2.9682</td> <td>    0.044</td> <td>   67.590</td> <td> 0.000</td> <td>    2.882</td> <td>    3.054</td>\n",
       "</tr>\n",
       "<tr>\n",
       "  <th>accommodates</th>         <td>    0.1882</td> <td>    0.004</td> <td>   44.362</td> <td> 0.000</td> <td>    0.180</td> <td>    0.197</td>\n",
       "</tr>\n",
       "<tr>\n",
       "  <th>review_scores_rating</th> <td>    0.0033</td> <td>    0.000</td> <td>    7.378</td> <td> 0.000</td> <td>    0.002</td> <td>    0.004</td>\n",
       "</tr>\n",
       "<tr>\n",
       "  <th>bedrooms</th>             <td>    0.1427</td> <td>    0.008</td> <td>   18.503</td> <td> 0.000</td> <td>    0.128</td> <td>    0.158</td>\n",
       "</tr>\n",
       "<tr>\n",
       "  <th>bathrooms</th>            <td>    0.0062</td> <td>    0.012</td> <td>    0.497</td> <td> 0.619</td> <td>   -0.018</td> <td>    0.031</td>\n",
       "</tr>\n",
       "<tr>\n",
       "  <th>beds</th>                 <td>   -0.0482</td> <td>    0.005</td> <td>   -9.221</td> <td> 0.000</td> <td>   -0.058</td> <td>   -0.038</td>\n",
       "</tr>\n",
       "</table>\n",
       "<table class=\"simpletable\">\n",
       "<tr>\n",
       "  <th>Omnibus:</th>       <td>156.822</td> <th>  Durbin-Watson:     </th> <td>   1.716</td>\n",
       "</tr>\n",
       "<tr>\n",
       "  <th>Prob(Omnibus):</th> <td> 0.000</td>  <th>  Jarque-Bera (JB):  </th> <td> 265.898</td>\n",
       "</tr>\n",
       "<tr>\n",
       "  <th>Skew:</th>          <td>-0.005</td>  <th>  Prob(JB):          </th> <td>1.82e-58</td>\n",
       "</tr>\n",
       "<tr>\n",
       "  <th>Kurtosis:</th>      <td> 3.641</td>  <th>  Cond. No.          </th> <td>1.17e+03</td>\n",
       "</tr>\n",
       "</table><br/><br/>Warnings:<br/>[1] Standard Errors assume that the covariance matrix of the errors is correctly specified.<br/>[2] The condition number is large, 1.17e+03. This might indicate that there are<br/>strong multicollinearity or other numerical problems."
      ],
      "text/plain": [
       "<class 'statsmodels.iolib.summary.Summary'>\n",
       "\"\"\"\n",
       "                            OLS Regression Results                            \n",
       "==============================================================================\n",
       "Dep. Variable:                      y   R-squared:                       0.290\n",
       "Model:                            OLS   Adj. R-squared:                  0.290\n",
       "Method:                 Least Squares   F-statistic:                     1269.\n",
       "Date:                Fri, 21 Sep 2018   Prob (F-statistic):               0.00\n",
       "Time:                        15:41:48   Log-Likelihood:                -9260.8\n",
       "No. Observations:               15516   AIC:                         1.853e+04\n",
       "Df Residuals:                   15510   BIC:                         1.858e+04\n",
       "Df Model:                           5                                         \n",
       "Covariance Type:            nonrobust                                         \n",
       "========================================================================================\n",
       "                           coef    std err          t      P>|t|      [0.025      0.975]\n",
       "----------------------------------------------------------------------------------------\n",
       "const                    2.9682      0.044     67.590      0.000       2.882       3.054\n",
       "accommodates             0.1882      0.004     44.362      0.000       0.180       0.197\n",
       "review_scores_rating     0.0033      0.000      7.378      0.000       0.002       0.004\n",
       "bedrooms                 0.1427      0.008     18.503      0.000       0.128       0.158\n",
       "bathrooms                0.0062      0.012      0.497      0.619      -0.018       0.031\n",
       "beds                    -0.0482      0.005     -9.221      0.000      -0.058      -0.038\n",
       "==============================================================================\n",
       "Omnibus:                      156.822   Durbin-Watson:                   1.716\n",
       "Prob(Omnibus):                  0.000   Jarque-Bera (JB):              265.898\n",
       "Skew:                          -0.005   Prob(JB):                     1.82e-58\n",
       "Kurtosis:                       3.641   Cond. No.                     1.17e+03\n",
       "==============================================================================\n",
       "\n",
       "Warnings:\n",
       "[1] Standard Errors assume that the covariance matrix of the errors is correctly specified.\n",
       "[2] The condition number is large, 1.17e+03. This might indicate that there are\n",
       "strong multicollinearity or other numerical problems.\n",
       "\"\"\""
      ]
     },
     "execution_count": 30,
     "metadata": {},
     "output_type": "execute_result"
    }
   ],
   "source": [
    "onlyX = sm.OLS(y,sm.add_constant(Xtable)).fit()\n",
    "onlyX.summary()"
   ]
  },
  {
   "cell_type": "markdown",
   "metadata": {},
   "source": [
    "Then, we could fit a model using the neighbourhood average synthetic features as well:"
   ]
  },
  {
   "cell_type": "code",
   "execution_count": 31,
   "metadata": {},
   "outputs": [],
   "source": [
    "WXtable = pd.DataFrame(WX, columns=['lag_{}'.format(name) for name in Xnames])"
   ]
  },
  {
   "cell_type": "code",
   "execution_count": 32,
   "metadata": {},
   "outputs": [],
   "source": [
    "XWXtable = pd.concat((Xtable,WXtable),axis=1)"
   ]
  },
  {
   "cell_type": "code",
   "execution_count": 33,
   "metadata": {},
   "outputs": [
    {
     "data": {
      "text/html": [
       "<table class=\"simpletable\">\n",
       "<caption>OLS Regression Results</caption>\n",
       "<tr>\n",
       "  <th>Dep. Variable:</th>            <td>y</td>        <th>  R-squared:         </th> <td>   0.311</td> \n",
       "</tr>\n",
       "<tr>\n",
       "  <th>Model:</th>                   <td>OLS</td>       <th>  Adj. R-squared:    </th> <td>   0.311</td> \n",
       "</tr>\n",
       "<tr>\n",
       "  <th>Method:</th>             <td>Least Squares</td>  <th>  F-statistic:       </th> <td>   701.4</td> \n",
       "</tr>\n",
       "<tr>\n",
       "  <th>Date:</th>             <td>Fri, 21 Sep 2018</td> <th>  Prob (F-statistic):</th>  <td>  0.00</td>  \n",
       "</tr>\n",
       "<tr>\n",
       "  <th>Time:</th>                 <td>15:41:50</td>     <th>  Log-Likelihood:    </th> <td> -9026.9</td> \n",
       "</tr>\n",
       "<tr>\n",
       "  <th>No. Observations:</th>      <td> 15516</td>      <th>  AIC:               </th> <td>1.808e+04</td>\n",
       "</tr>\n",
       "<tr>\n",
       "  <th>Df Residuals:</th>          <td> 15505</td>      <th>  BIC:               </th> <td>1.816e+04</td>\n",
       "</tr>\n",
       "<tr>\n",
       "  <th>Df Model:</th>              <td>    10</td>      <th>                     </th>     <td> </td>    \n",
       "</tr>\n",
       "<tr>\n",
       "  <th>Covariance Type:</th>      <td>nonrobust</td>    <th>                     </th>     <td> </td>    \n",
       "</tr>\n",
       "</table>\n",
       "<table class=\"simpletable\">\n",
       "<tr>\n",
       "              <td></td>                <th>coef</th>     <th>std err</th>      <th>t</th>      <th>P>|t|</th>  <th>[0.025</th>    <th>0.975]</th>  \n",
       "</tr>\n",
       "<tr>\n",
       "  <th>const</th>                    <td>    2.7158</td> <td>    0.114</td> <td>   23.723</td> <td> 0.000</td> <td>    2.491</td> <td>    2.940</td>\n",
       "</tr>\n",
       "<tr>\n",
       "  <th>accommodates</th>             <td>    0.1829</td> <td>    0.004</td> <td>   43.616</td> <td> 0.000</td> <td>    0.175</td> <td>    0.191</td>\n",
       "</tr>\n",
       "<tr>\n",
       "  <th>review_scores_rating</th>     <td>    0.0035</td> <td>    0.000</td> <td>    8.036</td> <td> 0.000</td> <td>    0.003</td> <td>    0.004</td>\n",
       "</tr>\n",
       "<tr>\n",
       "  <th>bedrooms</th>                 <td>    0.1465</td> <td>    0.008</td> <td>   19.126</td> <td> 0.000</td> <td>    0.131</td> <td>    0.161</td>\n",
       "</tr>\n",
       "<tr>\n",
       "  <th>bathrooms</th>                <td>   -0.0135</td> <td>    0.012</td> <td>   -1.087</td> <td> 0.277</td> <td>   -0.038</td> <td>    0.011</td>\n",
       "</tr>\n",
       "<tr>\n",
       "  <th>beds</th>                     <td>   -0.0448</td> <td>    0.005</td> <td>   -8.616</td> <td> 0.000</td> <td>   -0.055</td> <td>   -0.035</td>\n",
       "</tr>\n",
       "<tr>\n",
       "  <th>lag_accommodates</th>         <td>    0.0162</td> <td>    0.001</td> <td>   16.632</td> <td> 0.000</td> <td>    0.014</td> <td>    0.018</td>\n",
       "</tr>\n",
       "<tr>\n",
       "  <th>lag_review_scores_rating</th> <td>   -0.0004</td> <td> 4.29e-05</td> <td>   -9.279</td> <td> 0.000</td> <td>   -0.000</td> <td>   -0.000</td>\n",
       "</tr>\n",
       "<tr>\n",
       "  <th>lag_bedrooms</th>             <td>    0.0001</td> <td>    0.002</td> <td>    0.086</td> <td> 0.931</td> <td>   -0.003</td> <td>    0.003</td>\n",
       "</tr>\n",
       "<tr>\n",
       "  <th>lag_bathrooms</th>            <td>    0.0240</td> <td>    0.002</td> <td>   10.595</td> <td> 0.000</td> <td>    0.020</td> <td>    0.028</td>\n",
       "</tr>\n",
       "<tr>\n",
       "  <th>lag_beds</th>                 <td>   -0.0150</td> <td>    0.001</td> <td>  -13.860</td> <td> 0.000</td> <td>   -0.017</td> <td>   -0.013</td>\n",
       "</tr>\n",
       "</table>\n",
       "<table class=\"simpletable\">\n",
       "<tr>\n",
       "  <th>Omnibus:</th>       <td>163.213</td> <th>  Durbin-Watson:     </th> <td>   1.786</td>\n",
       "</tr>\n",
       "<tr>\n",
       "  <th>Prob(Omnibus):</th> <td> 0.000</td>  <th>  Jarque-Bera (JB):  </th> <td> 278.468</td>\n",
       "</tr>\n",
       "<tr>\n",
       "  <th>Skew:</th>          <td>-0.023</td>  <th>  Prob(JB):          </th> <td>3.40e-61</td>\n",
       "</tr>\n",
       "<tr>\n",
       "  <th>Kurtosis:</th>      <td> 3.655</td>  <th>  Cond. No.          </th> <td>9.71e+04</td>\n",
       "</tr>\n",
       "</table><br/><br/>Warnings:<br/>[1] Standard Errors assume that the covariance matrix of the errors is correctly specified.<br/>[2] The condition number is large, 9.71e+04. This might indicate that there are<br/>strong multicollinearity or other numerical problems."
      ],
      "text/plain": [
       "<class 'statsmodels.iolib.summary.Summary'>\n",
       "\"\"\"\n",
       "                            OLS Regression Results                            \n",
       "==============================================================================\n",
       "Dep. Variable:                      y   R-squared:                       0.311\n",
       "Model:                            OLS   Adj. R-squared:                  0.311\n",
       "Method:                 Least Squares   F-statistic:                     701.4\n",
       "Date:                Fri, 21 Sep 2018   Prob (F-statistic):               0.00\n",
       "Time:                        15:41:50   Log-Likelihood:                -9026.9\n",
       "No. Observations:               15516   AIC:                         1.808e+04\n",
       "Df Residuals:                   15505   BIC:                         1.816e+04\n",
       "Df Model:                          10                                         \n",
       "Covariance Type:            nonrobust                                         \n",
       "============================================================================================\n",
       "                               coef    std err          t      P>|t|      [0.025      0.975]\n",
       "--------------------------------------------------------------------------------------------\n",
       "const                        2.7158      0.114     23.723      0.000       2.491       2.940\n",
       "accommodates                 0.1829      0.004     43.616      0.000       0.175       0.191\n",
       "review_scores_rating         0.0035      0.000      8.036      0.000       0.003       0.004\n",
       "bedrooms                     0.1465      0.008     19.126      0.000       0.131       0.161\n",
       "bathrooms                   -0.0135      0.012     -1.087      0.277      -0.038       0.011\n",
       "beds                        -0.0448      0.005     -8.616      0.000      -0.055      -0.035\n",
       "lag_accommodates             0.0162      0.001     16.632      0.000       0.014       0.018\n",
       "lag_review_scores_rating    -0.0004   4.29e-05     -9.279      0.000      -0.000      -0.000\n",
       "lag_bedrooms                 0.0001      0.002      0.086      0.931      -0.003       0.003\n",
       "lag_bathrooms                0.0240      0.002     10.595      0.000       0.020       0.028\n",
       "lag_beds                    -0.0150      0.001    -13.860      0.000      -0.017      -0.013\n",
       "==============================================================================\n",
       "Omnibus:                      163.213   Durbin-Watson:                   1.786\n",
       "Prob(Omnibus):                  0.000   Jarque-Bera (JB):              278.468\n",
       "Skew:                          -0.023   Prob(JB):                     3.40e-61\n",
       "Kurtosis:                       3.655   Cond. No.                     9.71e+04\n",
       "==============================================================================\n",
       "\n",
       "Warnings:\n",
       "[1] Standard Errors assume that the covariance matrix of the errors is correctly specified.\n",
       "[2] The condition number is large, 9.71e+04. This might indicate that there are\n",
       "strong multicollinearity or other numerical problems.\n",
       "\"\"\""
      ]
     },
     "execution_count": 33,
     "metadata": {},
     "output_type": "execute_result"
    }
   ],
   "source": [
    "withWX = sm.OLS(y,sm.add_constant(XWXtable)).fit()\n",
    "withWX.summary()"
   ]
  },
  {
   "cell_type": "markdown",
   "metadata": {},
   "source": [
    "This gains a nice bump in the model fit with no significant hit to model complexity. "
   ]
  },
  {
   "cell_type": "markdown",
   "metadata": {},
   "source": [
    "## Going Further"
   ]
  },
  {
   "cell_type": "markdown",
   "metadata": {},
   "source": [
    "We could also use a spatial autoregressive model to further improve fit. This ceases to be estimatable in `statsmodels` and instead requires `pysal.spreg`, the spatial regression submodule of PySAL. Generalized method of moments estimators are available in `pysal.spreg.GM_Lag`, and maximum likelihood methods in `pysal.spreg.ML_Lag`. \n",
    "\n",
    "These methods are often harder to fit, though, so like `gwr`, they may be less performant on big data. But, you can usually achieve a gain in fit for no significant increase in the number of terms by using these models. "
   ]
  }
 ],
 "metadata": {
  "kernelspec": {
   "display_name": "Python 3",
   "language": "python",
   "name": "python3"
  },
  "language_info": {
   "codemirror_mode": {
    "name": "ipython",
    "version": 3
   },
   "file_extension": ".py",
   "mimetype": "text/x-python",
   "name": "python",
   "nbconvert_exporter": "python",
   "pygments_lexer": "ipython3",
   "version": "3.7.4"
  }
 },
 "nbformat": 4,
 "nbformat_minor": 2
}
